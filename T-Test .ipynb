{
 "cells": [
  {
   "cell_type": "markdown",
   "id": "712cfd27",
   "metadata": {},
   "source": [
    "## One Sample T-Test in Python\n"
   ]
  },
  {
   "cell_type": "code",
   "execution_count": 2,
   "id": "10ccde82",
   "metadata": {},
   "outputs": [],
   "source": [
    "import numpy as np\n",
    "import pandas as pd\n",
    "import scipy\n"
   ]
  },
  {
   "cell_type": "code",
   "execution_count": 3,
   "id": "58aed0c1",
   "metadata": {},
   "outputs": [],
   "source": [
    "from scipy import stats"
   ]
  },
  {
   "cell_type": "code",
   "execution_count": 4,
   "id": "2116c0ec",
   "metadata": {},
   "outputs": [],
   "source": [
    "student_score = np.array([72, 90 ,65, 73 , 79, 84 , 63 , 76 , 85 , 75])"
   ]
  },
  {
   "cell_type": "code",
   "execution_count": 11,
   "id": "52603899",
   "metadata": {},
   "outputs": [],
   "source": [
    "#population mean \n",
    "mu = 70"
   ]
  },
  {
   "cell_type": "code",
   "execution_count": 6,
   "id": "6584f9f5",
   "metadata": {},
   "outputs": [],
   "source": [
    "# Peform one sample test"
   ]
  },
  {
   "cell_type": "code",
   "execution_count": 7,
   "id": "aa373ab3",
   "metadata": {},
   "outputs": [],
   "source": [
    "t_stat , p_value  = stats.ttest_1samp(student_score , mu)"
   ]
  },
  {
   "cell_type": "code",
   "execution_count": 8,
   "id": "22f9896d",
   "metadata": {},
   "outputs": [
    {
     "name": "stdout",
     "output_type": "stream",
     "text": [
      "T-Statistics2.2798500709813903\n",
      "p_value0.04857439328450351\n"
     ]
    }
   ],
   "source": [
    "print(f\"T-Statistics{t_stat}\")\n",
    "print(f\"p_value{p_value}\")"
   ]
  },
  {
   "cell_type": "code",
   "execution_count": 9,
   "id": "5151941d",
   "metadata": {},
   "outputs": [],
   "source": [
    "# set significance level\n",
    "alpha = 0.05"
   ]
  },
  {
   "cell_type": "code",
   "execution_count": 10,
   "id": "22007192",
   "metadata": {},
   "outputs": [
    {
     "name": "stdout",
     "output_type": "stream",
     "text": [
      "Reject Null Hypothesis , there is significant differences between sample mean and hypothesis population mean\n"
     ]
    }
   ],
   "source": [
    "if(p_value<alpha):\n",
    "    print(\"Reject Null Hypothesis , there is significant differences between sample mean and hypothesis population mean\")\n",
    "else:\n",
    "    print(\"Fail TO Reject Null Hypothesi , there is no significant differences between sample mean and hypothesis population mean) \")"
   ]
  },
  {
   "cell_type": "markdown",
   "id": "5be69ab9",
   "metadata": {},
   "source": [
    "## Two Sample Test"
   ]
  },
  {
   "cell_type": "code",
   "execution_count": 12,
   "id": "c34820f2",
   "metadata": {},
   "outputs": [
    {
     "name": "stdout",
     "output_type": "stream",
     "text": [
      "t-statistic: -6.225302078205701, p-value: 0.0002523833292220602\n"
     ]
    }
   ],
   "source": [
    "# Sample data\n",
    "group1 = [2.9, 3.0, 3.2, 3.3, 3.5]\n",
    "group2 = [3.8, 4.0, 4.1, 4.3, 4.4]\n",
    "\n",
    "# Independent two-sample t-test\n",
    "t_statistic, p_value = stats.ttest_ind(group1, group2)\n",
    "\n",
    "print(f\"t-statistic: {t_statistic}, p-value: {p_value}\")\n"
   ]
  },
  {
   "cell_type": "code",
   "execution_count": 13,
   "id": "fff3c3f6",
   "metadata": {},
   "outputs": [],
   "source": [
    "#set significance level\n",
    "alpha = 0.05\n"
   ]
  },
  {
   "cell_type": "code",
   "execution_count": 15,
   "id": "da9e6c16",
   "metadata": {},
   "outputs": [
    {
     "name": "stdout",
     "output_type": "stream",
     "text": [
      "Reject Null Hypothesis , there is significant difference betwween sample mean of two groups and hypothesis population mean of two groups\n"
     ]
    }
   ],
   "source": [
    "if(p_value<alpha):\n",
    "    print(\"Reject Null Hypothesis , there is significant difference betwween sample mean of two groups and hypothesis population mean of two groups\")\n",
    "else:\n",
    "    print(\"Fail to reject Null Hypothesis , there is no significant differences between sample mean of two groups and hypothesis population mean of two groups\")"
   ]
  },
  {
   "cell_type": "code",
   "execution_count": null,
   "id": "0f8714de",
   "metadata": {},
   "outputs": [],
   "source": []
  }
 ],
 "metadata": {
  "kernelspec": {
   "display_name": "Python 3 (ipykernel)",
   "language": "python",
   "name": "python3"
  },
  "language_info": {
   "codemirror_mode": {
    "name": "ipython",
    "version": 3
   },
   "file_extension": ".py",
   "mimetype": "text/x-python",
   "name": "python",
   "nbconvert_exporter": "python",
   "pygments_lexer": "ipython3",
   "version": "3.11.5"
  }
 },
 "nbformat": 4,
 "nbformat_minor": 5
}

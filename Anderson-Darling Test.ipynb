{
 "cells": [
  {
   "cell_type": "code",
   "execution_count": 1,
   "id": "2371aeae",
   "metadata": {},
   "outputs": [],
   "source": [
    "import numpy as np\n",
    "import scipy"
   ]
  },
  {
   "cell_type": "code",
   "execution_count": 3,
   "id": "712f3b63",
   "metadata": {},
   "outputs": [],
   "source": [
    "from scipy.stats import anderson"
   ]
  },
  {
   "cell_type": "code",
   "execution_count": 4,
   "id": "bce405d9",
   "metadata": {},
   "outputs": [],
   "source": [
    "# Example dataset\n",
    "data = np.array([1.2, 2.3, 2.8, 3.1, 4.5, 5.0])"
   ]
  },
  {
   "cell_type": "code",
   "execution_count": 5,
   "id": "ec69c927",
   "metadata": {},
   "outputs": [],
   "source": [
    "# Perform the Anderson-Darling test for normal distribution\n",
    "result = anderson(data, dist='norm')"
   ]
  },
  {
   "cell_type": "code",
   "execution_count": 6,
   "id": "767a0c12",
   "metadata": {},
   "outputs": [
    {
     "name": "stdout",
     "output_type": "stream",
     "text": [
      "Anderson-Darling Test Statistic: 0.19906210688409498\n",
      "Critical Values: [0.592 0.675 0.809 0.944 1.123]\n",
      "Significance Levels: [15.  10.   5.   2.5  1. ]\n"
     ]
    }
   ],
   "source": [
    "# Output the results\n",
    "print(\"Anderson-Darling Test Statistic:\", result.statistic)\n",
    "print(\"Critical Values:\", result.critical_values)\n",
    "print(\"Significance Levels:\", result.significance_level)"
   ]
  },
  {
   "cell_type": "code",
   "execution_count": 14,
   "id": "a67e9f03",
   "metadata": {},
   "outputs": [
    {
     "name": "stdout",
     "output_type": "stream",
     "text": [
      "At15.0% significance level : Data likely follow  normal Distribution: \n",
      "At10.0% significance level : Data likely follow  normal Distribution: \n",
      "At5.0% significance level : Data likely follow  normal Distribution: \n",
      "At2.5% significance level : Data likely follow  normal Distribution: \n",
      "At1.0% significance level : Data likely follow  normal Distribution: \n"
     ]
    }
   ],
   "source": [
    "for i  in range(len(result.critical_values)):\n",
    "    sl , cv = result.significance_level[i] , result.critical_values[i]\n",
    "    if result.statistic < cv:\n",
    "        print(f\"At{sl}% significance level : Data likely follow  normal Distribution: \")\n",
    "    else:\n",
    "        print(f\"At{sl}% significanc level: Data is not likely to follow normal distribution:\" )"
   ]
  },
  {
   "cell_type": "code",
   "execution_count": null,
   "id": "d3aa575a",
   "metadata": {},
   "outputs": [],
   "source": []
  }
 ],
 "metadata": {
  "kernelspec": {
   "display_name": "Python 3 (ipykernel)",
   "language": "python",
   "name": "python3"
  },
  "language_info": {
   "codemirror_mode": {
    "name": "ipython",
    "version": 3
   },
   "file_extension": ".py",
   "mimetype": "text/x-python",
   "name": "python",
   "nbconvert_exporter": "python",
   "pygments_lexer": "ipython3",
   "version": "3.11.5"
  }
 },
 "nbformat": 4,
 "nbformat_minor": 5
}

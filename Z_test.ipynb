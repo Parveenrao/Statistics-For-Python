{
 "cells": [
  {
   "cell_type": "code",
   "execution_count": 1,
   "id": "0950fc2e",
   "metadata": {},
   "outputs": [],
   "source": [
    "import numpy as np\n",
    "import pandas as pd\n",
    "import scipy\n"
   ]
  },
  {
   "cell_type": "markdown",
   "id": "d5bc3ee1",
   "metadata": {},
   "source": [
    "## Using Z_Score "
   ]
  },
  {
   "cell_type": "code",
   "execution_count": 2,
   "id": "a15a1c4e",
   "metadata": {},
   "outputs": [],
   "source": [
    "sample = [650,730,510,670,480,800,690,530,590,620,710,670,640,780,650,490,800,600,510,700,720,730,740,750,890,800,930,940,950,960]"
   ]
  },
  {
   "cell_type": "code",
   "execution_count": 3,
   "id": "82358d7f",
   "metadata": {},
   "outputs": [
    {
     "name": "stdout",
     "output_type": "stream",
     "text": [
      "707.6666666666666\n"
     ]
    }
   ],
   "source": [
    "sample_mean = np.mean(sample)\n",
    "print(sample_mean)"
   ]
  },
  {
   "cell_type": "code",
   "execution_count": 4,
   "id": "6f142c11",
   "metadata": {},
   "outputs": [
    {
     "name": "stdout",
     "output_type": "stream",
     "text": [
      "30\n"
     ]
    }
   ],
   "source": [
    "sample_size = len(sample)\n",
    "print(sample_size)"
   ]
  },
  {
   "cell_type": "code",
   "execution_count": 5,
   "id": "28799590",
   "metadata": {},
   "outputs": [],
   "source": [
    "pop_mean = 600\n",
    "pop_std = 100\n",
    "alpha = 0.05"
   ]
  },
  {
   "cell_type": "code",
   "execution_count": 6,
   "id": "00491471",
   "metadata": {},
   "outputs": [],
   "source": [
    "critical_value = 1.645\n"
   ]
  },
  {
   "cell_type": "code",
   "execution_count": 7,
   "id": "63a1d7e8",
   "metadata": {},
   "outputs": [
    {
     "name": "stdout",
     "output_type": "stream",
     "text": [
      "5.897146202472286\n"
     ]
    }
   ],
   "source": [
    "Z_score = (sample_mean - pop_mean)/(pop_std/np.sqrt(sample_size))\n",
    "print(Z_score)"
   ]
  },
  {
   "cell_type": "code",
   "execution_count": 8,
   "id": "1b74e301",
   "metadata": {},
   "outputs": [
    {
     "name": "stdout",
     "output_type": "stream",
     "text": [
      "Null hypothesis rejected , Alternate hypothesis is acceptd\n"
     ]
    }
   ],
   "source": [
    "if(Z_score < critical_value):\n",
    "    print('Null Hypothesis is accepeted')\n",
    "else:\n",
    "    print('Null hypothesis rejected , Alternate hypothesis is acceptd')"
   ]
  },
  {
   "cell_type": "markdown",
   "id": "7b310039",
   "metadata": {},
   "source": [
    "## USing Inbuilt Function"
   ]
  },
  {
   "cell_type": "code",
   "execution_count": 9,
   "id": "b8a53ecc",
   "metadata": {},
   "outputs": [],
   "source": [
    "from statsmodels.stats.weightstats import ztest"
   ]
  },
  {
   "cell_type": "code",
   "execution_count": 10,
   "id": "fce0acf0",
   "metadata": {},
   "outputs": [
    {
     "name": "stdout",
     "output_type": "stream",
     "text": [
      "Z-test Score: 4.280817066677812 \n",
      "P-value: 9.31041900046051e-06\n",
      "Null hypothesis is rejected. \n",
      "Alternate hypothesis is accepted!\n"
     ]
    }
   ],
   "source": [
    "ztest_score, pval = ztest(sample,value=pop_mean,alternative='larger')\n",
    "print('Z-test Score:',ztest_score,'\\nP-value:',pval)\n",
    "if(pval>alpha):\n",
    "     print('Null hypothesis is accepted!')\n",
    "else:\n",
    "    print('Null hypothesis is rejected. \\nAlternate hypothesis is accepted!')   \n",
    " "
   ]
  },
  {
   "cell_type": "code",
   "execution_count": null,
   "id": "3b877aaa",
   "metadata": {},
   "outputs": [],
   "source": []
  },
  {
   "cell_type": "code",
   "execution_count": null,
   "id": "074d4bb2",
   "metadata": {},
   "outputs": [],
   "source": []
  }
 ],
 "metadata": {
  "kernelspec": {
   "display_name": "Python 3 (ipykernel)",
   "language": "python",
   "name": "python3"
  },
  "language_info": {
   "codemirror_mode": {
    "name": "ipython",
    "version": 3
   },
   "file_extension": ".py",
   "mimetype": "text/x-python",
   "name": "python",
   "nbconvert_exporter": "python",
   "pygments_lexer": "ipython3",
   "version": "3.11.5"
  }
 },
 "nbformat": 4,
 "nbformat_minor": 5
}

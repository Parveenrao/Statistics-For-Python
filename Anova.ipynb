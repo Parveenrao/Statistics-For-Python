{
 "cells": [
  {
   "cell_type": "code",
   "execution_count": 1,
   "id": "8a016078",
   "metadata": {},
   "outputs": [],
   "source": [
    "import numpy as np\n",
    "import pandas as pd"
   ]
  },
  {
   "cell_type": "code",
   "execution_count": 2,
   "id": "888e9c4c",
   "metadata": {},
   "outputs": [],
   "source": [
    "# first step is create three groups of arrays \n",
    "performance1 = [89, 89, 88, 78, 79]\n",
    "performance2 = [93, 92, 94, 89, 88]\n",
    "performance3 = [89, 88, 89, 93, 90]\n",
    "performance4 = [81, 78, 81, 92, 82]"
   ]
  },
  {
   "cell_type": "code",
   "execution_count": null,
   "id": "f2a0016c",
   "metadata": {},
   "outputs": [],
   "source": [
    "# conduct one way anova\n",
    "# python  provide f_oneway() funtion from scipy \n",
    "alpha = 0.05"
   ]
  },
  {
   "cell_type": "code",
   "execution_count": null,
   "id": "d0fb28bf",
   "metadata": {},
   "outputs": [],
   "source": [
    "from scipy.stats import f_oneway  "
   ]
  },
  {
   "cell_type": "code",
   "execution_count": 9,
   "id": "0d666cd0",
   "metadata": {},
   "outputs": [],
   "source": [
    "f_stat , p_value  = f_oneway(performance1, performance2, performance3, performance4)"
   ]
  },
  {
   "cell_type": "code",
   "execution_count": 10,
   "id": "da8e3369",
   "metadata": {},
   "outputs": [
    {
     "name": "stdout",
     "output_type": "stream",
     "text": [
      "4.625000000000002\n",
      "0.016336459839780215\n"
     ]
    }
   ],
   "source": [
    "print(f_stat)\n",
    "print(p_value)"
   ]
  },
  {
   "cell_type": "code",
   "execution_count": 12,
   "id": "6105ae54",
   "metadata": {},
   "outputs": [
    {
     "name": "stdout",
     "output_type": "stream",
     "text": [
      "Reject Null hypothesis , we have sufficient proof that there exist a difference between performances\n"
     ]
    }
   ],
   "source": [
    "if (p_value < alpha):\n",
    "    print(\"Reject Null hypothesis , we have sufficient proof that there exist a difference between performances\")\n",
    "else:\n",
    "    print(\"Alternative hypothesis we wil rejected\")\n",
    "    "
   ]
  },
  {
   "cell_type": "code",
   "execution_count": null,
   "id": "ddde8ae7",
   "metadata": {},
   "outputs": [],
   "source": []
  }
 ],
 "metadata": {
  "kernelspec": {
   "display_name": "Python 3 (ipykernel)",
   "language": "python",
   "name": "python3"
  },
  "language_info": {
   "codemirror_mode": {
    "name": "ipython",
    "version": 3
   },
   "file_extension": ".py",
   "mimetype": "text/x-python",
   "name": "python",
   "nbconvert_exporter": "python",
   "pygments_lexer": "ipython3",
   "version": "3.11.5"
  }
 },
 "nbformat": 4,
 "nbformat_minor": 5
}
